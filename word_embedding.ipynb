{
  "nbformat": 4,
  "nbformat_minor": 0,
  "metadata": {
    "colab": {
      "provenance": [],
      "authorship_tag": "ABX9TyNj9YVjvjxi7RXg0SgICqfF",
      "include_colab_link": true
    },
    "kernelspec": {
      "name": "python3",
      "display_name": "Python 3"
    },
    "language_info": {
      "name": "python"
    }
  },
  "cells": [
    {
      "cell_type": "markdown",
      "metadata": {
        "id": "view-in-github",
        "colab_type": "text"
      },
      "source": [
        "<a href=\"https://colab.research.google.com/github/satyasri77/word_embedding/blob/main/word_embedding.ipynb\" target=\"_parent\"><img src=\"https://colab.research.google.com/assets/colab-badge.svg\" alt=\"Open In Colab\"/></a>"
      ]
    },
    {
      "cell_type": "code",
      "source": [
        "!wget http://nlp.stanford.edu/data/glove.6B.zip\n",
        "!unzip -q glove.6B.zip"
      ],
      "metadata": {
        "id": "N3PJvPrSGMEb",
        "colab": {
          "base_uri": "https://localhost:8080/"
        },
        "outputId": "7a45d591-b22a-4016-c538-e58429972f92"
      },
      "execution_count": null,
      "outputs": [
        {
          "output_type": "stream",
          "name": "stdout",
          "text": [
            "--2023-01-09 11:58:59--  http://nlp.stanford.edu/data/glove.6B.zip\n",
            "Resolving nlp.stanford.edu (nlp.stanford.edu)... 171.64.67.140\n",
            "Connecting to nlp.stanford.edu (nlp.stanford.edu)|171.64.67.140|:80... connected.\n",
            "HTTP request sent, awaiting response... 302 Found\n",
            "Location: https://nlp.stanford.edu/data/glove.6B.zip [following]\n",
            "--2023-01-09 11:58:59--  https://nlp.stanford.edu/data/glove.6B.zip\n",
            "Connecting to nlp.stanford.edu (nlp.stanford.edu)|171.64.67.140|:443... connected.\n",
            "HTTP request sent, awaiting response... 301 Moved Permanently\n",
            "Location: https://downloads.cs.stanford.edu/nlp/data/glove.6B.zip [following]\n",
            "--2023-01-09 11:58:59--  https://downloads.cs.stanford.edu/nlp/data/glove.6B.zip\n",
            "Resolving downloads.cs.stanford.edu (downloads.cs.stanford.edu)... 171.64.64.22\n",
            "Connecting to downloads.cs.stanford.edu (downloads.cs.stanford.edu)|171.64.64.22|:443... connected.\n",
            "HTTP request sent, awaiting response... 200 OK\n",
            "Length: 862182613 (822M) [application/zip]\n",
            "Saving to: ‘glove.6B.zip’\n",
            "\n",
            "glove.6B.zip        100%[===================>] 822.24M  5.00MB/s    in 2m 39s  \n",
            "\n",
            "2023-01-09 12:01:38 (5.19 MB/s) - ‘glove.6B.zip’ saved [862182613/862182613]\n",
            "\n"
          ]
        }
      ]
    },
    {
      "cell_type": "code",
      "source": [
        "import os\n",
        "import numpy as np\n",
        "import tensorflow as tf\n",
        "from tensorflow import keras\n",
        "import matplotlib.pyplot as plt"
      ],
      "metadata": {
        "id": "hY7YWM-UZWPj"
      },
      "execution_count": null,
      "outputs": []
    },
    {
      "cell_type": "code",
      "source": [
        "path_to_glove_file = '/content/glove.6B.100d.txt'\n",
        "\n",
        "embeddings_index = {}\n",
        "with open(path_to_glove_file) as f:\n",
        "    for line in f:\n",
        "        word, coefs = line.split(maxsplit=1)\n",
        "        coefs = np.fromstring(coefs, \"f\", sep=\" \")\n",
        "        embeddings_index[word] = coefs\n",
        "\n",
        "print(\"Found %s word vectors.\" % len(embeddings_index))"
      ],
      "metadata": {
        "colab": {
          "base_uri": "https://localhost:8080/"
        },
        "id": "7H-cQfXkbrNu",
        "outputId": "3c962f54-a9d1-4174-c78d-39e271062f7f"
      },
      "execution_count": null,
      "outputs": [
        {
          "output_type": "stream",
          "name": "stdout",
          "text": [
            "Found 400000 word vectors.\n"
          ]
        }
      ]
    },
    {
      "cell_type": "code",
      "source": [
        "embeddings_index['question']"
      ],
      "metadata": {
        "colab": {
          "base_uri": "https://localhost:8080/"
        },
        "id": "ODzVp4fAb9kH",
        "outputId": "5b66b85b-03c0-4163-bee8-1a70938423e4"
      },
      "execution_count": null,
      "outputs": [
        {
          "output_type": "execute_result",
          "data": {
            "text/plain": [
              "array([-1.2743e-01,  4.3527e-01,  8.6000e-01,  1.5689e-01, -4.3569e-01,\n",
              "        1.1583e-01, -2.1007e-01, -5.0635e-01,  6.4092e-01, -4.6156e-01,\n",
              "       -1.9420e-01,  5.8436e-01,  6.9742e-02, -1.1545e-01, -3.2735e-01,\n",
              "       -3.9723e-01, -2.0121e-01,  5.8893e-01, -5.7793e-01, -1.9917e-01,\n",
              "       -2.9232e-02, -3.0948e-01, -3.2966e-01, -4.6377e-01,  1.6894e-01,\n",
              "       -2.1959e-01,  2.2170e-01, -3.2093e-01, -2.8745e-01,  1.0514e-01,\n",
              "       -3.0371e-01,  1.6153e-01,  3.8239e-01, -1.1834e-01, -2.6868e-01,\n",
              "        1.1647e-01, -2.6755e-01,  8.7568e-02,  3.8210e-01, -2.8546e-01,\n",
              "       -7.4351e-01, -2.4122e-01,  4.6977e-01, -4.8640e-01, -8.4232e-01,\n",
              "       -5.2109e-01,  3.4324e-01, -2.6099e-01, -7.5433e-01, -7.7240e-01,\n",
              "        9.5811e-01,  1.0273e-01,  2.2422e-01,  1.2683e+00, -1.8940e-01,\n",
              "       -1.8174e+00,  1.6384e-01, -4.3998e-01,  1.4220e+00,  4.3426e-01,\n",
              "       -1.5507e-01,  6.2946e-01, -6.7967e-04, -3.8197e-01,  1.5199e+00,\n",
              "       -2.0684e-01,  3.8709e-01,  2.5181e-01, -5.3548e-01,  3.5606e-01,\n",
              "       -2.5254e-02,  2.4610e-01, -1.9801e-01, -2.8623e-01, -1.2536e-01,\n",
              "        1.6036e-01, -2.4481e-01, -3.7300e-01, -9.3496e-01, -6.1637e-02,\n",
              "        3.1735e-01, -5.1726e-01, -2.8423e-02, -6.4262e-01, -1.5638e+00,\n",
              "       -4.1716e-01, -3.1100e-01,  3.9429e-01,  5.3170e-02, -7.1948e-01,\n",
              "       -2.8150e-01,  2.2780e-01, -3.2269e-01, -1.6102e-01, -1.7337e-01,\n",
              "        6.0107e-01,  1.9735e-02, -2.4033e-01,  3.7498e-01,  6.7258e-01],\n",
              "      dtype=float32)"
            ]
          },
          "metadata": {},
          "execution_count": 95
        }
      ]
    },
    {
      "cell_type": "code",
      "source": [
        "def cosine_similarity(A, B):\n",
        "    dot = np.dot(A,B)    \n",
        "    norma = np.linalg.norm(A)\n",
        "    normb = np.linalg.norm(B)    \n",
        "    cos = dot/(norma*normb)\n",
        "    return cos"
      ],
      "metadata": {
        "id": "GCszlVyucXb1"
      },
      "execution_count": null,
      "outputs": []
    },
    {
      "cell_type": "code",
      "source": [
        "king = embeddings_index['king']\n",
        "queen = embeddings_index['war']\n",
        "\n",
        "cosine_similarity(king, queen)"
      ],
      "metadata": {
        "colab": {
          "base_uri": "https://localhost:8080/"
        },
        "id": "kQBKGewdcYtU",
        "outputId": "e8d451a2-920f-48d1-cce6-fe38d8bfc985"
      },
      "execution_count": null,
      "outputs": [
        {
          "output_type": "execute_result",
          "data": {
            "text/plain": [
              "0.4685552"
            ]
          },
          "metadata": {},
          "execution_count": 97
        }
      ]
    },
    {
      "cell_type": "code",
      "source": [
        "def compute_pca(X, n_components=2):\n",
        "\n",
        "    # mean center the data\n",
        "    X_demeaned = X - np.mean(X,axis=0)\n",
        "\n",
        "    # calculate the covariance matrix\n",
        "    covariance_matrix = np.cov(X_demeaned,rowvar=False)\n",
        "\n",
        "    # calculate eigenvectors & eigenvalues of the covariance matrix\n",
        "    eigen_vals, eigen_vecs = np.linalg.eigh(covariance_matrix, UPLO='L')\n",
        "\n",
        "    # sort eigenvalue in increasing order (get the indices from the sort)\n",
        "    idx_sorted =  np.argsort(eigen_vals)\n",
        "\n",
        "    # reverse the order so that it's from highest to lowest.\n",
        "    idx_sorted_decreasing = idx_sorted[::-1]\n",
        "\n",
        "    # sort the eigen values by idx_sorted_decreasing\n",
        "    eigen_vals_sorted = eigen_vals[idx_sorted_decreasing]\n",
        "    \n",
        "    # sort eigenvectors using the idx_sorted_decreasing indices\n",
        "    eigen_vecs_sorted = eigen_vecs[:,idx_sorted_decreasing]\n",
        "\n",
        "    # select the first n eigenvectors (n is desired dimension\n",
        "    # of rescaled data array, or dims_rescaled_data)\n",
        "    eigen_vecs_subset = eigen_vecs_sorted[:,0:n_components]\n",
        "    \n",
        "    # transform the data by multiplying the transpose of the eigenvectors with the transpose of the de-meaned data\n",
        "    # Then take the transpose of that product.\n",
        "    X_reduced = (eigen_vecs_subset.T @ X_demeaned.T).T\n",
        "\n",
        "    return X_reduced"
      ],
      "metadata": {
        "id": "E82LM6h2c-i9"
      },
      "execution_count": null,
      "outputs": []
    },
    {
      "cell_type": "code",
      "source": [
        "words = ['pencil', 'pen','book','news', 'happy', 'sad', 'city',\n",
        "         'village', 'country', 'continent', 'joyful',\n",
        "         'king','queen','kingdom']"
      ],
      "metadata": {
        "id": "-KF15u6jDOKM"
      },
      "execution_count": null,
      "outputs": []
    },
    {
      "cell_type": "code",
      "source": [
        "X = np.zeros([len(words), 100], dtype = float)\n",
        "for i in range(len(words)):\n",
        "  m = embeddings_index[words[i]]\n",
        "  m = m.reshape(1,100)\n",
        "  # print(m.shape,X.shape)\n",
        "  # print(m)\n",
        "  X[i] = m\n",
        "X.shape"
      ],
      "metadata": {
        "colab": {
          "base_uri": "https://localhost:8080/"
        },
        "id": "gF21xCRyDRIR",
        "outputId": "8badeae3-404a-4d33-cc46-ad1208df7233"
      },
      "execution_count": null,
      "outputs": [
        {
          "output_type": "execute_result",
          "data": {
            "text/plain": [
              "(14, 100)"
            ]
          },
          "metadata": {},
          "execution_count": 100
        }
      ]
    },
    {
      "cell_type": "code",
      "source": [
        "result = compute_pca(X, 2)\n",
        "plt.scatter(result[:, 0], result[:, 1])\n",
        "for i, word in enumerate(words):\n",
        "    plt.annotate(word, xy=(result[i, 0] - 0.05, result[i, 1] + 0.1))\n",
        "\n",
        "plt.show()"
      ],
      "metadata": {
        "id": "gqnQ4rAQJHGG",
        "outputId": "13fa085e-d025-4c4c-e663-2cee2e410e53",
        "colab": {
          "base_uri": "https://localhost:8080/",
          "height": 267
        }
      },
      "execution_count": null,
      "outputs": [
        {
          "output_type": "display_data",
          "data": {
            "text/plain": [
              "<Figure size 432x288 with 1 Axes>"
            ],
            "image/png": "[encoded data removed]"
          },
          "metadata": {
            "needs_background": "light"
          }
        }
      ]
    },
    {
      "cell_type": "code",
      "source": [],
      "metadata": {
        "id": "exSjmk12GYaW"
      },
      "execution_count": null,
      "outputs": []
    },
    {
      "cell_type": "code",
      "source": [],
      "metadata": {
        "id": "lO0Fslb8GYPL"
      },
      "execution_count": null,
      "outputs": []
    }
  ]
}